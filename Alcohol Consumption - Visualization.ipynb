{
 "cells": [
  {
   "cell_type": "code",
   "execution_count": 1,
   "id": "d99115cf",
   "metadata": {
    "_cell_guid": "b1076dfc-b9ad-4769-8c92-a6c4dae69d19",
    "_uuid": "8f2839f25d086af736a60e9eeb907d3b93b6e0e5",
    "execution": {
     "iopub.execute_input": "2024-07-01T18:53:16.227093Z",
     "iopub.status.busy": "2024-07-01T18:53:16.226648Z",
     "iopub.status.idle": "2024-07-01T18:53:17.241255Z",
     "shell.execute_reply": "2024-07-01T18:53:17.239769Z"
    },
    "papermill": {
     "duration": 1.023791,
     "end_time": "2024-07-01T18:53:17.244004",
     "exception": false,
     "start_time": "2024-07-01T18:53:16.220213",
     "status": "completed"
    },
    "tags": []
   },
   "outputs": [
    {
     "name": "stdout",
     "output_type": "stream",
     "text": [
      "/kaggle/input/alcohol-consumption/drinks.csv\n"
     ]
    }
   ],
   "source": [
    "# This Python 3 environment comes with many helpful analytics libraries installed\n",
    "# It is defined by the kaggle/python Docker image: https://github.com/kaggle/docker-python\n",
    "# For example, here's several helpful packages to load\n",
    "\n",
    "import numpy as np # linear algebra\n",
    "import pandas as pd # data processing, CSV file I/O (e.g. pd.read_csv)\n",
    "\n",
    "# Input data files are available in the read-only \"../input/\" directory\n",
    "# For example, running this (by clicking run or pressing Shift+Enter) will list all files under the input directory\n",
    "\n",
    "import os\n",
    "for dirname, _, filenames in os.walk('/kaggle/input'):\n",
    "    for filename in filenames:\n",
    "        print(os.path.join(dirname, filename))\n",
    "\n",
    "# You can write up to 20GB to the current directory (/kaggle/working/) that gets preserved as output when you create a version using \"Save & Run All\" \n",
    "# You can also write temporary files to /kaggle/temp/, but they won't be saved outside of the current session"
   ]
  },
  {
   "cell_type": "code",
   "execution_count": 2,
   "id": "5f1faa80",
   "metadata": {
    "execution": {
     "iopub.execute_input": "2024-07-01T18:53:17.253452Z",
     "iopub.status.busy": "2024-07-01T18:53:17.252973Z",
     "iopub.status.idle": "2024-07-01T18:53:17.885944Z",
     "shell.execute_reply": "2024-07-01T18:53:17.884793Z"
    },
    "papermill": {
     "duration": 0.640597,
     "end_time": "2024-07-01T18:53:17.888608",
     "exception": false,
     "start_time": "2024-07-01T18:53:17.248011",
     "status": "completed"
    },
    "tags": []
   },
   "outputs": [],
   "source": [
    "import pandas as pd\n",
    "import numpy as np\n",
    "import plotly.express as px\n",
    "import matplotlib.pyplot as plt"
   ]
  },
  {
   "cell_type": "code",
   "execution_count": 3,
   "id": "f4c4a9f1",
   "metadata": {
    "execution": {
     "iopub.execute_input": "2024-07-01T18:53:17.898110Z",
     "iopub.status.busy": "2024-07-01T18:53:17.897728Z",
     "iopub.status.idle": "2024-07-01T18:53:17.934564Z",
     "shell.execute_reply": "2024-07-01T18:53:17.933066Z"
    },
    "papermill": {
     "duration": 0.044803,
     "end_time": "2024-07-01T18:53:17.937628",
     "exception": false,
     "start_time": "2024-07-01T18:53:17.892825",
     "status": "completed"
    },
    "tags": []
   },
   "outputs": [
    {
     "name": "stdout",
     "output_type": "stream",
     "text": [
      "         country  beer_servings  spirit_servings  wine_servings  \\\n",
      "0    Afghanistan              0                0              0   \n",
      "1        Albania             89              132             54   \n",
      "2        Algeria             25                0             14   \n",
      "3        Andorra            245              138            312   \n",
      "4         Angola            217               57             45   \n",
      "..           ...            ...              ...            ...   \n",
      "188    Venezuela            333              100              3   \n",
      "189      Vietnam            111                2              1   \n",
      "190        Yemen              6                0              0   \n",
      "191       Zambia             32               19              4   \n",
      "192     Zimbabwe             64               18              4   \n",
      "\n",
      "     total_litres_of_pure_alcohol  \n",
      "0                             0.0  \n",
      "1                             4.9  \n",
      "2                             0.7  \n",
      "3                            12.4  \n",
      "4                             5.9  \n",
      "..                            ...  \n",
      "188                           7.7  \n",
      "189                           2.0  \n",
      "190                           0.1  \n",
      "191                           2.5  \n",
      "192                           4.7  \n",
      "\n",
      "[193 rows x 5 columns]\n"
     ]
    }
   ],
   "source": [
    "arquivo = pd.read_csv('/kaggle/input/alcohol-consumption/drinks.csv')\n",
    "print(arquivo)"
   ]
  },
  {
   "cell_type": "code",
   "execution_count": 4,
   "id": "d6396cd3",
   "metadata": {
    "execution": {
     "iopub.execute_input": "2024-07-01T18:53:17.946987Z",
     "iopub.status.busy": "2024-07-01T18:53:17.946581Z",
     "iopub.status.idle": "2024-07-01T18:53:17.963819Z",
     "shell.execute_reply": "2024-07-01T18:53:17.962657Z"
    },
    "papermill": {
     "duration": 0.024951,
     "end_time": "2024-07-01T18:53:17.966370",
     "exception": false,
     "start_time": "2024-07-01T18:53:17.941419",
     "status": "completed"
    },
    "tags": []
   },
   "outputs": [
    {
     "data": {
      "text/html": [
       "<div>\n",
       "<style scoped>\n",
       "    .dataframe tbody tr th:only-of-type {\n",
       "        vertical-align: middle;\n",
       "    }\n",
       "\n",
       "    .dataframe tbody tr th {\n",
       "        vertical-align: top;\n",
       "    }\n",
       "\n",
       "    .dataframe thead th {\n",
       "        text-align: right;\n",
       "    }\n",
       "</style>\n",
       "<table border=\"1\" class=\"dataframe\">\n",
       "  <thead>\n",
       "    <tr style=\"text-align: right;\">\n",
       "      <th></th>\n",
       "      <th>country</th>\n",
       "      <th>beer_servings</th>\n",
       "      <th>spirit_servings</th>\n",
       "      <th>wine_servings</th>\n",
       "      <th>total_litres_of_pure_alcohol</th>\n",
       "    </tr>\n",
       "  </thead>\n",
       "  <tbody>\n",
       "    <tr>\n",
       "      <th>0</th>\n",
       "      <td>Afghanistan</td>\n",
       "      <td>0</td>\n",
       "      <td>0</td>\n",
       "      <td>0</td>\n",
       "      <td>0.0</td>\n",
       "    </tr>\n",
       "    <tr>\n",
       "      <th>1</th>\n",
       "      <td>Albania</td>\n",
       "      <td>89</td>\n",
       "      <td>132</td>\n",
       "      <td>54</td>\n",
       "      <td>4.9</td>\n",
       "    </tr>\n",
       "    <tr>\n",
       "      <th>2</th>\n",
       "      <td>Algeria</td>\n",
       "      <td>25</td>\n",
       "      <td>0</td>\n",
       "      <td>14</td>\n",
       "      <td>0.7</td>\n",
       "    </tr>\n",
       "    <tr>\n",
       "      <th>3</th>\n",
       "      <td>Andorra</td>\n",
       "      <td>245</td>\n",
       "      <td>138</td>\n",
       "      <td>312</td>\n",
       "      <td>12.4</td>\n",
       "    </tr>\n",
       "    <tr>\n",
       "      <th>4</th>\n",
       "      <td>Angola</td>\n",
       "      <td>217</td>\n",
       "      <td>57</td>\n",
       "      <td>45</td>\n",
       "      <td>5.9</td>\n",
       "    </tr>\n",
       "    <tr>\n",
       "      <th>...</th>\n",
       "      <td>...</td>\n",
       "      <td>...</td>\n",
       "      <td>...</td>\n",
       "      <td>...</td>\n",
       "      <td>...</td>\n",
       "    </tr>\n",
       "    <tr>\n",
       "      <th>188</th>\n",
       "      <td>Venezuela</td>\n",
       "      <td>333</td>\n",
       "      <td>100</td>\n",
       "      <td>3</td>\n",
       "      <td>7.7</td>\n",
       "    </tr>\n",
       "    <tr>\n",
       "      <th>189</th>\n",
       "      <td>Vietnam</td>\n",
       "      <td>111</td>\n",
       "      <td>2</td>\n",
       "      <td>1</td>\n",
       "      <td>2.0</td>\n",
       "    </tr>\n",
       "    <tr>\n",
       "      <th>190</th>\n",
       "      <td>Yemen</td>\n",
       "      <td>6</td>\n",
       "      <td>0</td>\n",
       "      <td>0</td>\n",
       "      <td>0.1</td>\n",
       "    </tr>\n",
       "    <tr>\n",
       "      <th>191</th>\n",
       "      <td>Zambia</td>\n",
       "      <td>32</td>\n",
       "      <td>19</td>\n",
       "      <td>4</td>\n",
       "      <td>2.5</td>\n",
       "    </tr>\n",
       "    <tr>\n",
       "      <th>192</th>\n",
       "      <td>Zimbabwe</td>\n",
       "      <td>64</td>\n",
       "      <td>18</td>\n",
       "      <td>4</td>\n",
       "      <td>4.7</td>\n",
       "    </tr>\n",
       "  </tbody>\n",
       "</table>\n",
       "<p>193 rows × 5 columns</p>\n",
       "</div>"
      ],
      "text/plain": [
       "         country  beer_servings  spirit_servings  wine_servings  \\\n",
       "0    Afghanistan              0                0              0   \n",
       "1        Albania             89              132             54   \n",
       "2        Algeria             25                0             14   \n",
       "3        Andorra            245              138            312   \n",
       "4         Angola            217               57             45   \n",
       "..           ...            ...              ...            ...   \n",
       "188    Venezuela            333              100              3   \n",
       "189      Vietnam            111                2              1   \n",
       "190        Yemen              6                0              0   \n",
       "191       Zambia             32               19              4   \n",
       "192     Zimbabwe             64               18              4   \n",
       "\n",
       "     total_litres_of_pure_alcohol  \n",
       "0                             0.0  \n",
       "1                             4.9  \n",
       "2                             0.7  \n",
       "3                            12.4  \n",
       "4                             5.9  \n",
       "..                            ...  \n",
       "188                           7.7  \n",
       "189                           2.0  \n",
       "190                           0.1  \n",
       "191                           2.5  \n",
       "192                           4.7  \n",
       "\n",
       "[193 rows x 5 columns]"
      ]
     },
     "metadata": {},
     "output_type": "display_data"
    }
   ],
   "source": [
    "arquivo_drinks_df = arquivo\n",
    "display(arquivo_drinks_df)"
   ]
  },
  {
   "cell_type": "code",
   "execution_count": 5,
   "id": "2b0bc141",
   "metadata": {
    "execution": {
     "iopub.execute_input": "2024-07-01T18:53:17.976259Z",
     "iopub.status.busy": "2024-07-01T18:53:17.975872Z",
     "iopub.status.idle": "2024-07-01T18:53:17.998476Z",
     "shell.execute_reply": "2024-07-01T18:53:17.997308Z"
    },
    "papermill": {
     "duration": 0.030488,
     "end_time": "2024-07-01T18:53:18.000975",
     "exception": false,
     "start_time": "2024-07-01T18:53:17.970487",
     "status": "completed"
    },
    "tags": []
   },
   "outputs": [
    {
     "name": "stdout",
     "output_type": "stream",
     "text": [
      "<class 'pandas.core.frame.DataFrame'>\n",
      "RangeIndex: 193 entries, 0 to 192\n",
      "Data columns (total 5 columns):\n",
      " #   Column                        Non-Null Count  Dtype  \n",
      "---  ------                        --------------  -----  \n",
      " 0   country                       193 non-null    object \n",
      " 1   beer_servings                 193 non-null    int64  \n",
      " 2   spirit_servings               193 non-null    int64  \n",
      " 3   wine_servings                 193 non-null    int64  \n",
      " 4   total_litres_of_pure_alcohol  193 non-null    float64\n",
      "dtypes: float64(1), int64(3), object(1)\n",
      "memory usage: 7.7+ KB\n"
     ]
    }
   ],
   "source": [
    "arquivo_drinks_df.info()"
   ]
  },
  {
   "cell_type": "code",
   "execution_count": 6,
   "id": "cd2dd8fb",
   "metadata": {
    "execution": {
     "iopub.execute_input": "2024-07-01T18:53:18.010832Z",
     "iopub.status.busy": "2024-07-01T18:53:18.010363Z",
     "iopub.status.idle": "2024-07-01T18:53:18.033885Z",
     "shell.execute_reply": "2024-07-01T18:53:18.032895Z"
    },
    "papermill": {
     "duration": 0.031106,
     "end_time": "2024-07-01T18:53:18.036190",
     "exception": false,
     "start_time": "2024-07-01T18:53:18.005084",
     "status": "completed"
    },
    "tags": []
   },
   "outputs": [
    {
     "data": {
      "text/html": [
       "<div>\n",
       "<style scoped>\n",
       "    .dataframe tbody tr th:only-of-type {\n",
       "        vertical-align: middle;\n",
       "    }\n",
       "\n",
       "    .dataframe tbody tr th {\n",
       "        vertical-align: top;\n",
       "    }\n",
       "\n",
       "    .dataframe thead th {\n",
       "        text-align: right;\n",
       "    }\n",
       "</style>\n",
       "<table border=\"1\" class=\"dataframe\">\n",
       "  <thead>\n",
       "    <tr style=\"text-align: right;\">\n",
       "      <th></th>\n",
       "      <th>beer_servings</th>\n",
       "      <th>spirit_servings</th>\n",
       "      <th>wine_servings</th>\n",
       "      <th>total_litres_of_pure_alcohol</th>\n",
       "    </tr>\n",
       "  </thead>\n",
       "  <tbody>\n",
       "    <tr>\n",
       "      <th>count</th>\n",
       "      <td>193.000000</td>\n",
       "      <td>193.000000</td>\n",
       "      <td>193.000000</td>\n",
       "      <td>193.000000</td>\n",
       "    </tr>\n",
       "    <tr>\n",
       "      <th>mean</th>\n",
       "      <td>106.160622</td>\n",
       "      <td>80.994819</td>\n",
       "      <td>49.450777</td>\n",
       "      <td>4.717098</td>\n",
       "    </tr>\n",
       "    <tr>\n",
       "      <th>std</th>\n",
       "      <td>101.143103</td>\n",
       "      <td>88.284312</td>\n",
       "      <td>79.697598</td>\n",
       "      <td>3.773298</td>\n",
       "    </tr>\n",
       "    <tr>\n",
       "      <th>min</th>\n",
       "      <td>0.000000</td>\n",
       "      <td>0.000000</td>\n",
       "      <td>0.000000</td>\n",
       "      <td>0.000000</td>\n",
       "    </tr>\n",
       "    <tr>\n",
       "      <th>25%</th>\n",
       "      <td>20.000000</td>\n",
       "      <td>4.000000</td>\n",
       "      <td>1.000000</td>\n",
       "      <td>1.300000</td>\n",
       "    </tr>\n",
       "    <tr>\n",
       "      <th>50%</th>\n",
       "      <td>76.000000</td>\n",
       "      <td>56.000000</td>\n",
       "      <td>8.000000</td>\n",
       "      <td>4.200000</td>\n",
       "    </tr>\n",
       "    <tr>\n",
       "      <th>75%</th>\n",
       "      <td>188.000000</td>\n",
       "      <td>128.000000</td>\n",
       "      <td>59.000000</td>\n",
       "      <td>7.200000</td>\n",
       "    </tr>\n",
       "    <tr>\n",
       "      <th>max</th>\n",
       "      <td>376.000000</td>\n",
       "      <td>438.000000</td>\n",
       "      <td>370.000000</td>\n",
       "      <td>14.400000</td>\n",
       "    </tr>\n",
       "  </tbody>\n",
       "</table>\n",
       "</div>"
      ],
      "text/plain": [
       "       beer_servings  spirit_servings  wine_servings  \\\n",
       "count     193.000000       193.000000     193.000000   \n",
       "mean      106.160622        80.994819      49.450777   \n",
       "std       101.143103        88.284312      79.697598   \n",
       "min         0.000000         0.000000       0.000000   \n",
       "25%        20.000000         4.000000       1.000000   \n",
       "50%        76.000000        56.000000       8.000000   \n",
       "75%       188.000000       128.000000      59.000000   \n",
       "max       376.000000       438.000000     370.000000   \n",
       "\n",
       "       total_litres_of_pure_alcohol  \n",
       "count                    193.000000  \n",
       "mean                       4.717098  \n",
       "std                        3.773298  \n",
       "min                        0.000000  \n",
       "25%                        1.300000  \n",
       "50%                        4.200000  \n",
       "75%                        7.200000  \n",
       "max                       14.400000  "
      ]
     },
     "execution_count": 6,
     "metadata": {},
     "output_type": "execute_result"
    }
   ],
   "source": [
    "arquivo_drinks_df.describe()"
   ]
  },
  {
   "cell_type": "code",
   "execution_count": 7,
   "id": "c279a687",
   "metadata": {
    "execution": {
     "iopub.execute_input": "2024-07-01T18:53:18.047704Z",
     "iopub.status.busy": "2024-07-01T18:53:18.046643Z",
     "iopub.status.idle": "2024-07-01T18:53:18.061699Z",
     "shell.execute_reply": "2024-07-01T18:53:18.060542Z"
    },
    "papermill": {
     "duration": 0.02303,
     "end_time": "2024-07-01T18:53:18.063897",
     "exception": false,
     "start_time": "2024-07-01T18:53:18.040867",
     "status": "completed"
    },
    "tags": []
   },
   "outputs": [
    {
     "data": {
      "text/html": [
       "<div>\n",
       "<style scoped>\n",
       "    .dataframe tbody tr th:only-of-type {\n",
       "        vertical-align: middle;\n",
       "    }\n",
       "\n",
       "    .dataframe tbody tr th {\n",
       "        vertical-align: top;\n",
       "    }\n",
       "\n",
       "    .dataframe thead th {\n",
       "        text-align: right;\n",
       "    }\n",
       "</style>\n",
       "<table border=\"1\" class=\"dataframe\">\n",
       "  <thead>\n",
       "    <tr style=\"text-align: right;\">\n",
       "      <th></th>\n",
       "      <th>beer_servings</th>\n",
       "      <th>spirit_servings</th>\n",
       "      <th>wine_servings</th>\n",
       "      <th>total_litres_of_pure_alcohol</th>\n",
       "    </tr>\n",
       "    <tr>\n",
       "      <th>country</th>\n",
       "      <th></th>\n",
       "      <th></th>\n",
       "      <th></th>\n",
       "      <th></th>\n",
       "    </tr>\n",
       "  </thead>\n",
       "  <tbody>\n",
       "    <tr>\n",
       "      <th>Afghanistan</th>\n",
       "      <td>0</td>\n",
       "      <td>0</td>\n",
       "      <td>0</td>\n",
       "      <td>0.0</td>\n",
       "    </tr>\n",
       "    <tr>\n",
       "      <th>Albania</th>\n",
       "      <td>89</td>\n",
       "      <td>132</td>\n",
       "      <td>54</td>\n",
       "      <td>4.9</td>\n",
       "    </tr>\n",
       "    <tr>\n",
       "      <th>Algeria</th>\n",
       "      <td>25</td>\n",
       "      <td>0</td>\n",
       "      <td>14</td>\n",
       "      <td>0.7</td>\n",
       "    </tr>\n",
       "    <tr>\n",
       "      <th>Andorra</th>\n",
       "      <td>245</td>\n",
       "      <td>138</td>\n",
       "      <td>312</td>\n",
       "      <td>12.4</td>\n",
       "    </tr>\n",
       "    <tr>\n",
       "      <th>Angola</th>\n",
       "      <td>217</td>\n",
       "      <td>57</td>\n",
       "      <td>45</td>\n",
       "      <td>5.9</td>\n",
       "    </tr>\n",
       "    <tr>\n",
       "      <th>...</th>\n",
       "      <td>...</td>\n",
       "      <td>...</td>\n",
       "      <td>...</td>\n",
       "      <td>...</td>\n",
       "    </tr>\n",
       "    <tr>\n",
       "      <th>Venezuela</th>\n",
       "      <td>333</td>\n",
       "      <td>100</td>\n",
       "      <td>3</td>\n",
       "      <td>7.7</td>\n",
       "    </tr>\n",
       "    <tr>\n",
       "      <th>Vietnam</th>\n",
       "      <td>111</td>\n",
       "      <td>2</td>\n",
       "      <td>1</td>\n",
       "      <td>2.0</td>\n",
       "    </tr>\n",
       "    <tr>\n",
       "      <th>Yemen</th>\n",
       "      <td>6</td>\n",
       "      <td>0</td>\n",
       "      <td>0</td>\n",
       "      <td>0.1</td>\n",
       "    </tr>\n",
       "    <tr>\n",
       "      <th>Zambia</th>\n",
       "      <td>32</td>\n",
       "      <td>19</td>\n",
       "      <td>4</td>\n",
       "      <td>2.5</td>\n",
       "    </tr>\n",
       "    <tr>\n",
       "      <th>Zimbabwe</th>\n",
       "      <td>64</td>\n",
       "      <td>18</td>\n",
       "      <td>4</td>\n",
       "      <td>4.7</td>\n",
       "    </tr>\n",
       "  </tbody>\n",
       "</table>\n",
       "<p>193 rows × 4 columns</p>\n",
       "</div>"
      ],
      "text/plain": [
       "             beer_servings  spirit_servings  wine_servings  \\\n",
       "country                                                      \n",
       "Afghanistan              0                0              0   \n",
       "Albania                 89              132             54   \n",
       "Algeria                 25                0             14   \n",
       "Andorra                245              138            312   \n",
       "Angola                 217               57             45   \n",
       "...                    ...              ...            ...   \n",
       "Venezuela              333              100              3   \n",
       "Vietnam                111                2              1   \n",
       "Yemen                    6                0              0   \n",
       "Zambia                  32               19              4   \n",
       "Zimbabwe                64               18              4   \n",
       "\n",
       "             total_litres_of_pure_alcohol  \n",
       "country                                    \n",
       "Afghanistan                           0.0  \n",
       "Albania                               4.9  \n",
       "Algeria                               0.7  \n",
       "Andorra                              12.4  \n",
       "Angola                                5.9  \n",
       "...                                   ...  \n",
       "Venezuela                             7.7  \n",
       "Vietnam                               2.0  \n",
       "Yemen                                 0.1  \n",
       "Zambia                                2.5  \n",
       "Zimbabwe                              4.7  \n",
       "\n",
       "[193 rows x 4 columns]"
      ]
     },
     "metadata": {},
     "output_type": "display_data"
    }
   ],
   "source": [
    "arquivo_drinks_df = arquivo.set_index('country')\n",
    "display(arquivo_drinks_df)"
   ]
  },
  {
   "cell_type": "code",
   "execution_count": 8,
   "id": "622402ed",
   "metadata": {
    "execution": {
     "iopub.execute_input": "2024-07-01T18:53:18.075257Z",
     "iopub.status.busy": "2024-07-01T18:53:18.074352Z",
     "iopub.status.idle": "2024-07-01T18:53:18.364116Z",
     "shell.execute_reply": "2024-07-01T18:53:18.362900Z"
    },
    "papermill": {
     "duration": 0.298068,
     "end_time": "2024-07-01T18:53:18.366531",
     "exception": false,
     "start_time": "2024-07-01T18:53:18.068463",
     "status": "completed"
    },
    "tags": []
   },
   "outputs": [
    {
     "data": {
      "text/plain": [
       "<Axes: >"
      ]
     },
     "execution_count": 8,
     "metadata": {},
     "output_type": "execute_result"
    },
    {
     "data": {
      "image/png": "[encoded data removed]",
      "text/plain": [
       "<Figure size 640x480 with 1 Axes>"
      ]
     },
     "metadata": {},
     "output_type": "display_data"
    }
   ],
   "source": [
    "arquivo_drinks_df.loc['China'].plot.bar()"
   ]
  },
  {
   "cell_type": "code",
   "execution_count": 9,
   "id": "85c48095",
   "metadata": {
    "execution": {
     "iopub.execute_input": "2024-07-01T18:53:18.379411Z",
     "iopub.status.busy": "2024-07-01T18:53:18.378525Z",
     "iopub.status.idle": "2024-07-01T18:53:18.609341Z",
     "shell.execute_reply": "2024-07-01T18:53:18.608224Z"
    },
    "papermill": {
     "duration": 0.240233,
     "end_time": "2024-07-01T18:53:18.611969",
     "exception": false,
     "start_time": "2024-07-01T18:53:18.371736",
     "status": "completed"
    },
    "tags": []
   },
   "outputs": [
    {
     "data": {
      "text/plain": [
       "<Axes: >"
      ]
     },
     "execution_count": 9,
     "metadata": {},
     "output_type": "execute_result"
    },
    {
     "data": {
      "image/png": "[encoded data removed]",
      "text/plain": [
       "<Figure size 640x480 with 1 Axes>"
      ]
     },
     "metadata": {},
     "output_type": "display_data"
    }
   ],
   "source": [
    "arquivo_drinks_df.loc['USA'].plot.bar()"
   ]
  },
  {
   "cell_type": "code",
   "execution_count": 10,
   "id": "aa6974a5",
   "metadata": {
    "execution": {
     "iopub.execute_input": "2024-07-01T18:53:18.625092Z",
     "iopub.status.busy": "2024-07-01T18:53:18.624319Z",
     "iopub.status.idle": "2024-07-01T18:53:18.822256Z",
     "shell.execute_reply": "2024-07-01T18:53:18.821088Z"
    },
    "papermill": {
     "duration": 0.207526,
     "end_time": "2024-07-01T18:53:18.825087",
     "exception": false,
     "start_time": "2024-07-01T18:53:18.617561",
     "status": "completed"
    },
    "tags": []
   },
   "outputs": [
    {
     "data": {
      "text/plain": [
       "<Axes: >"
      ]
     },
     "execution_count": 10,
     "metadata": {},
     "output_type": "execute_result"
    },
    {
     "data": {
      "image/png": "[encoded data removed]",
      "text/plain": [
       "<Figure size 640x480 with 1 Axes>"
      ]
     },
     "metadata": {},
     "output_type": "display_data"
    }
   ],
   "source": [
    "arquivo_drinks_df.loc['Brazil'].plot.bar()"
   ]
  },
  {
   "cell_type": "code",
   "execution_count": 11,
   "id": "6b089018",
   "metadata": {
    "execution": {
     "iopub.execute_input": "2024-07-01T18:53:18.839007Z",
     "iopub.status.busy": "2024-07-01T18:53:18.838621Z",
     "iopub.status.idle": "2024-07-01T18:53:19.049118Z",
     "shell.execute_reply": "2024-07-01T18:53:19.047817Z"
    },
    "papermill": {
     "duration": 0.220517,
     "end_time": "2024-07-01T18:53:19.051683",
     "exception": false,
     "start_time": "2024-07-01T18:53:18.831166",
     "status": "completed"
    },
    "tags": []
   },
   "outputs": [
    {
     "data": {
      "text/plain": [
       "<Axes: >"
      ]
     },
     "execution_count": 11,
     "metadata": {},
     "output_type": "execute_result"
    },
    {
     "data": {
      "image/png": "[encoded data removed]",
      "text/plain": [
       "<Figure size 640x480 with 1 Axes>"
      ]
     },
     "metadata": {},
     "output_type": "display_data"
    }
   ],
   "source": [
    "arquivo_drinks_df.loc['Germany'].plot.bar()"
   ]
  }
 ],
 "metadata": {
  "kaggle": {
   "accelerator": "none",
   "dataSources": [
    {
     "datasetId": 1585215,
     "sourceId": 2608078,
     "sourceType": "datasetVersion"
    }
   ],
   "dockerImageVersionId": 30732,
   "isGpuEnabled": false,
   "isInternetEnabled": true,
   "language": "python",
   "sourceType": "notebook"
  },
  "kernelspec": {
   "display_name": "Python 3",
   "language": "python",
   "name": "python3"
  },
  "language_info": {
   "codemirror_mode": {
    "name": "ipython",
    "version": 3
   },
   "file_extension": ".py",
   "mimetype": "text/x-python",
   "name": "python",
   "nbconvert_exporter": "python",
   "pygments_lexer": "ipython3",
   "version": "3.10.13"
  },
  "papermill": {
   "default_parameters": {},
   "duration": 6.280008,
   "end_time": "2024-07-01T18:53:19.578763",
   "environment_variables": {},
   "exception": null,
   "input_path": "__notebook__.ipynb",
   "output_path": "__notebook__.ipynb",
   "parameters": {},
   "start_time": "2024-07-01T18:53:13.298755",
   "version": "2.5.0"
  }
 },
 "nbformat": 4,
 "nbformat_minor": 5
}
